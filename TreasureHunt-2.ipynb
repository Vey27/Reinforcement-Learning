{
 "cells": [
  {
   "cell_type": "code",
   "execution_count": 1,
   "id": "67ca8702-997c-404d-83fb-fda7397d4afa",
   "metadata": {},
   "outputs": [],
   "source": [
    "import numpy as np\n",
    "import pandas as pd\n",
    "import time\n",
    "\n",
    "np.random.seed(2)  # reproducible"
   ]
  },
  {
   "cell_type": "code",
   "execution_count": 2,
   "id": "df118552-bdff-4c7d-bc4a-c78f5ed7ec7b",
   "metadata": {},
   "outputs": [],
   "source": [
    "N_STATES = 6   # the length of the 1 dimensional world\n",
    "ACTIONS = ['left', 'right']     # available actions\n",
    "\n",
    "EPSILON = 0.9   # greedy policy\n",
    "ALPHA = 0.1     # learning rate\n",
    "GAMMA = 0.9    # discount factor\n",
    "\n",
    "MAX_EPISODES = 13   # maximum episodes\n",
    "\n",
    "FRESH_TIME = 0.3    # refresh/pause time for one move used in time.sleep"
   ]
  },
  {
   "cell_type": "code",
   "execution_count": 3,
   "id": "3634200d-0bf7-4885-b1ad-416f43307d45",
   "metadata": {},
   "outputs": [],
   "source": [
    "def build_q_table(n_states, actions):\n",
    "    table = pd.DataFrame(\n",
    "        np.zeros((n_states, len(actions))),     # q_table initial values\n",
    "        columns=actions,    # actions's name\n",
    "    )\n",
    "    #print(table)    # show table\n",
    "    return table"
   ]
  },
  {
   "cell_type": "code",
   "execution_count": 4,
   "id": "f6a88b64-088f-4f40-9fef-dc6938780ef0",
   "metadata": {},
   "outputs": [],
   "source": [
    "def choose_action(state, q_table):\n",
    "    # This is how to choose an action\n",
    "    state_actions = q_table.iloc[state, :]\n",
    "\n",
    "    if (np.random.uniform() > EPSILON) or ((state_actions == 0).all()):  # act non-greedy or state-action have no value\n",
    "        action_name = np.random.choice(ACTIONS) #Exploration\n",
    "    else:   # act greedy\n",
    "        action_name = state_actions.idxmax()    # replace argmax to idxmax as argmax means a different function in newer version of pandas\n",
    "\n",
    "    return action_name"
   ]
  },
  {
   "cell_type": "code",
   "execution_count": 5,
   "id": "48c5f87d-9c1e-49f5-bded-2fc31a56b588",
   "metadata": {},
   "outputs": [],
   "source": [
    "#similar to env.step() ---> accepting state and action and returning reward and next state\n",
    "def get_env_feedback(S, A):\n",
    "    # This is how agent will interact with the environment\n",
    "    if A == 'right':    # move right\n",
    "        if S == N_STATES - 2:   # terminate\n",
    "            S_ = 'terminal'\n",
    "            R = 1\n",
    "        else:\n",
    "            S_ = S + 1\n",
    "            R = 0\n",
    "    else:   # move left\n",
    "        R = 0\n",
    "        if S == 0:\n",
    "            S_ = S  # reach the wall\n",
    "        else:\n",
    "            S_ = S - 1\n",
    "    return S_, R"
   ]
  },
  {
   "cell_type": "code",
   "execution_count": 6,
   "id": "7b61d9da-6ebe-4b15-80d1-45eb167beda6",
   "metadata": {},
   "outputs": [],
   "source": [
    "def update_env(S, episode, step_counter):#env.render()\n",
    "    # This is how environment be updated\n",
    "    env_list = ['-']*(N_STATES-1) + ['T']   # '---------T' our environment\n",
    "    if S == 'terminal':\n",
    "        interaction = 'Episode %s: total_steps = %s' % (episode+1, step_counter)\n",
    "        print('\\r{}'.format(interaction), end='')\n",
    "        time.sleep(2)\n",
    "        print('\\r                                ', end='')\n",
    "    else:\n",
    "        env_list[S] = 'o'\n",
    "        interaction = ''.join(env_list)\n",
    "        print('\\r{}'.format(interaction), end='')\n",
    "        time.sleep(FRESH_TIME)"
   ]
  },
  {
   "cell_type": "code",
   "execution_count": 7,
   "id": "a9f244e3-6d9c-46a4-9e95-535ab8fff760",
   "metadata": {},
   "outputs": [],
   "source": [
    "def rl():\n",
    "    # main part of RL loop\n",
    "    q_table = build_q_table(N_STATES, ACTIONS)\n",
    "    for episode in range(MAX_EPISODES):\n",
    "        step_counter = 0\n",
    "        S = 0\n",
    "        is_terminated = False\n",
    "        update_env(S, episode, step_counter)\n",
    "        while not is_terminated:\n",
    "\n",
    "            A = choose_action(S, q_table)\n",
    "            S_, R = get_env_feedback(S, A)  # take action & get next state and reward\n",
    "            q_predict = q_table.loc[S, A]\n",
    "            if S_ != 'terminal':\n",
    "                q_target = R + GAMMA * q_table.iloc[S_, :].max()   # next state is not terminal\n",
    "            else:\n",
    "                q_target = R     # next state is terminal\n",
    "                is_terminated = True    # terminate this episode\n",
    "\n",
    "            q_table.loc[S, A] += ALPHA * (q_target - q_predict)  # update\n",
    "            S = S_  # move to next state\n",
    "\n",
    "            update_env(S, episode, step_counter+1)\n",
    "            step_counter += 1\n",
    "    return q_table"
   ]
  },
  {
   "cell_type": "code",
   "execution_count": 8,
   "id": "6139473a-803c-4815-bd1d-7f2bd350a59b",
   "metadata": {},
   "outputs": [
    {
     "name": "stdout",
     "output_type": "stream",
     "text": [
      "                                \n",
      "Q-table:\n",
      "\n",
      "       left     right\n",
      "0  0.000000  0.004320\n",
      "1  0.000000  0.025005\n",
      "2  0.000030  0.111241\n",
      "3  0.000000  0.368750\n",
      "4  0.027621  0.745813\n",
      "5  0.000000  0.000000\n"
     ]
    }
   ],
   "source": [
    "q_table = rl()\n",
    "print('\\r\\nQ-table:\\n')\n",
    "print(q_table)"
   ]
  },
  {
   "cell_type": "code",
   "execution_count": 9,
   "id": "75dfc7ca-da10-4591-bedb-3cac74c072cc",
   "metadata": {},
   "outputs": [
    {
     "name": "stdout",
     "output_type": "stream",
     "text": [
      "Next state:  1\n",
      "Reward:  0\n",
      "Iteration 100 and action right\n",
      "Next state:  2\n",
      "Reward:  0\n",
      "Iteration 99 and action right\n",
      "Next state:  3\n",
      "Reward:  0\n",
      "Iteration 98 and action right\n",
      "Next state:  4\n",
      "Reward:  0\n",
      "Iteration 97 and action right\n",
      "Next state:  terminal\n",
      "Reward:  1\n",
      "Iteration 96 and action right\n"
     ]
    }
   ],
   "source": [
    "#RL Deploy Code\n",
    "state = 0 \n",
    "iterations_no = 100 \n",
    "\n",
    "# Ensuring the state is not terminal before taking action\n",
    "while state != 'terminal' and iterations_no > 0:\n",
    "    # Choose the best action using the Q-table\n",
    "    action = q_table.iloc[state, :].idxmax()\n",
    "    \n",
    "    # Get new state and reward\n",
    "    next_state, reward = get_env_feedback(state, action) \n",
    "\n",
    "    print(\"Next state: \", next_state)\n",
    "    print(\"Reward: \", reward)\n",
    "    print( \"Iteration {} and action {}\".format(iterations_no, action)) \n",
    "\n",
    "    # Update state and decrement the number of iterations\n",
    "    state = next_state\n",
    "    iterations_no -= 1\n",
    "    \n",
    "    # Pause to see the process\n",
    "    time.sleep(2)  \n"
   ]
  },
  {
   "cell_type": "code",
   "execution_count": 10,
   "id": "4c28f00b-f9c5-462a-a847-ec9cebeca345",
   "metadata": {},
   "outputs": [],
   "source": [
    "#RL Deploy Code\n",
    "#state = 0 \n",
    "#iterations_no = 100 \n",
    "#for i in range(iterations_no):     \n",
    "    #randomAction = ACTIONS[state]     \n",
    "    #retnVal = get_env_feedback(state, randomAction)     \n",
    "    #print(\"return Value \", retnVal)     \n",
    "    #print( \"iteration {} and action {}\".format(i+1,                                       \n",
    "      #randomAction))     \n",
    "    #time.sleep(2)     \n",
    "    #state = retnVal[0]     \n",
    "    #if retnVal == state:         \n",
    "        #break;\n",
    "\n"
   ]
  },
  {
   "cell_type": "code",
   "execution_count": null,
   "id": "41765936-505d-4112-b2c3-0da9d3efca02",
   "metadata": {},
   "outputs": [],
   "source": []
  }
 ],
 "metadata": {
  "kernelspec": {
   "display_name": "Python 3 (ipykernel)",
   "language": "python",
   "name": "python3"
  },
  "language_info": {
   "codemirror_mode": {
    "name": "ipython",
    "version": 3
   },
   "file_extension": ".py",
   "mimetype": "text/x-python",
   "name": "python",
   "nbconvert_exporter": "python",
   "pygments_lexer": "ipython3",
   "version": "3.9.13"
  }
 },
 "nbformat": 4,
 "nbformat_minor": 5
}
