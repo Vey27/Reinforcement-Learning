{
 "cells": [
  {
   "cell_type": "code",
   "execution_count": 1,
   "id": "df641afb",
   "metadata": {},
   "outputs": [],
   "source": [
    "import gymnasium as gym\n",
    "import numpy as np\n",
    "import time"
   ]
  },
  {
   "cell_type": "code",
   "execution_count": 2,
   "id": "4e0b6ff1",
   "metadata": {},
   "outputs": [],
   "source": [
    "env=gym.make(\"FrozenLake-v1\",render_mode='human',is_slippery=False)"
   ]
  },
  {
   "cell_type": "code",
   "execution_count": 3,
   "id": "62dc216d",
   "metadata": {},
   "outputs": [],
   "source": [
    "n_states=env.observation_space.n\n",
    "n_actions=env.action_space.n"
   ]
  },
  {
   "cell_type": "code",
   "execution_count": 4,
   "id": "977c46cb",
   "metadata": {},
   "outputs": [],
   "source": [
    "gamma = 0.99\n",
    "theta = 0.000001"
   ]
  },
  {
   "cell_type": "code",
   "execution_count": 5,
   "id": "902adc5a",
   "metadata": {},
   "outputs": [],
   "source": [
    "def argmax(env, V, pi, action,s, gamma):\n",
    "    e = np.zeros(n_actions)\n",
    "    for a in range(n_actions):                         # iterate for every action possible \n",
    "        q=0\n",
    "        P = np.array(env.env.P[s][a])                   \n",
    "        (x,y) = np.shape(P)                             # for Bellman Equation \n",
    "        \n",
    "        for i in range(x):                              # iterate for every possible states\n",
    "            s_= int(P[i][1])                            # S' - Sprime - possible succesor states\n",
    "            p = P[i][0]                                 # Transition Probability P(s'|s,a) \n",
    "            r = P[i][2]                                 # Reward\n",
    "            \n",
    "            q += p*(r+gamma*V[s_])                      # calculate action_ value q(s|a)\n",
    "            e[a] = q\n",
    "            \n",
    "    m = np.argmax(e) \n",
    "    action[s]=m                                           # Take index which has maximum value \n",
    "    pi[s][m] = 1                                        # update pi(a|s) \n",
    "\n",
    "    return pi"
   ]
  },
  {
   "cell_type": "code",
   "execution_count": 6,
   "id": "b0e77e95",
   "metadata": {},
   "outputs": [],
   "source": [
    "def bellman_optimality_update(env, V, s, gamma):  # update the stae_value V[s] by taking \n",
    "    pi = np.zeros((n_states, n_actions))       # action which maximizes current value\n",
    "    e = np.zeros(n_actions)                       \n",
    "                                            # STEP1: Find \n",
    "    for a in range(n_actions):             \n",
    "        q=0                                 # iterate for all possible action\n",
    "        P = np.array(env.env.P[s][a])\n",
    "        (x,y) = np.shape(P)\n",
    "        \n",
    "        for i in range(x):\n",
    "            s_= int(P[i][1])\n",
    "            p = P[i][0]\n",
    "            r = P[i][2]\n",
    "            q += p*(r+gamma*V[s_])\n",
    "            e[a] = q\n",
    "            \n",
    "    m = np.argmax(e)\n",
    "    pi[s][m] = 1\n",
    "    \n",
    "    value = 0\n",
    "    for a in range(n_actions):\n",
    "        u = 0\n",
    "        P = np.array(env.env.P[s][a])\n",
    "        (x,y) = np.shape(P)\n",
    "        for i in range(x):\n",
    "            \n",
    "            s_= int(P[i][1])\n",
    "            p = P[i][0]\n",
    "            r = P[i][2]\n",
    "            \n",
    "            u += p*(r+gamma*V[s_])\n",
    "            \n",
    "        value += pi[s,a] * u\n",
    "  \n",
    "    V[s]=value\n",
    "    return V[s]"
   ]
  },
  {
   "cell_type": "code",
   "execution_count": 7,
   "id": "d233dadf",
   "metadata": {},
   "outputs": [],
   "source": [
    "def value_iteration(env, gamma, theta):\n",
    "    V = np.zeros(n_states)                                       # initialize v(0) to arbitory value, my case \"zeros\"\n",
    "    while True:\n",
    "        delta = 0\n",
    "        for s in range(n_states):                       # iterate for all states\n",
    "            v = V[s]\n",
    "            bellman_optimality_update(env, V, s, gamma)   # update state_value with bellman_optimality_update\n",
    "            delta = max(delta, abs(v - V[s]))             # assign the change in value per iteration to delta  \n",
    "        if delta < theta:                                       \n",
    "            break                                         # if change gets to negligible \n",
    "                                                          # --> converged to optimal value         \n",
    "    pi = np.zeros((n_states, n_actions)) \n",
    "    action = np.zeros((n_states))\n",
    "    for s in range(n_states):\n",
    "        pi = argmax(env, V, pi,action, s, gamma)         # extract optimal policy using action value \n",
    "        \n",
    "    return V, pi,action                                          # optimal value funtion, optimal policy"
   ]
  },
  {
   "cell_type": "code",
   "execution_count": 8,
   "id": "e4c08873",
   "metadata": {},
   "outputs": [],
   "source": [
    "V, pi, action = value_iteration(env, gamma, theta)"
   ]
  },
  {
   "cell_type": "code",
   "execution_count": 9,
   "id": "c23db1d5",
   "metadata": {},
   "outputs": [
    {
     "data": {
      "text/plain": [
       "array([0.95099005, 0.96059601, 0.970299  , 0.96059601, 0.96059601,\n",
       "       0.        , 0.9801    , 0.        , 0.970299  , 0.9801    ,\n",
       "       0.99      , 0.        , 0.        , 0.99      , 1.        ,\n",
       "       0.        ])"
      ]
     },
     "execution_count": 9,
     "metadata": {},
     "output_type": "execute_result"
    }
   ],
   "source": [
    "V"
   ]
  },
  {
   "cell_type": "code",
   "execution_count": 10,
   "id": "a5a6ad68",
   "metadata": {},
   "outputs": [
    {
     "data": {
      "text/plain": [
       "array([[0., 1., 0., 0.],\n",
       "       [0., 0., 1., 0.],\n",
       "       [0., 1., 0., 0.],\n",
       "       [1., 0., 0., 0.],\n",
       "       [0., 1., 0., 0.],\n",
       "       [1., 0., 0., 0.],\n",
       "       [0., 1., 0., 0.],\n",
       "       [1., 0., 0., 0.],\n",
       "       [0., 0., 1., 0.],\n",
       "       [0., 1., 0., 0.],\n",
       "       [0., 1., 0., 0.],\n",
       "       [1., 0., 0., 0.],\n",
       "       [1., 0., 0., 0.],\n",
       "       [0., 0., 1., 0.],\n",
       "       [0., 0., 1., 0.],\n",
       "       [1., 0., 0., 0.]])"
      ]
     },
     "execution_count": 10,
     "metadata": {},
     "output_type": "execute_result"
    }
   ],
   "source": [
    "pi"
   ]
  },
  {
   "cell_type": "code",
   "execution_count": 11,
   "id": "34cbfd10",
   "metadata": {},
   "outputs": [
    {
     "data": {
      "text/plain": [
       "array([1., 2., 1., 0., 1., 0., 1., 0., 2., 1., 1., 0., 0., 2., 2., 0.])"
      ]
     },
     "execution_count": 11,
     "metadata": {},
     "output_type": "execute_result"
    }
   ],
   "source": [
    "action"
   ]
  },
  {
   "cell_type": "code",
   "execution_count": 12,
   "id": "9e5b18cf",
   "metadata": {},
   "outputs": [
    {
     "name": "stdout",
     "output_type": "stream",
     "text": [
      "[1, 2, 1, 0, 1, 0, 1, 0, 2, 1, 1, 0, 0, 2, 2, 0]\n"
     ]
    }
   ],
   "source": [
    "\n",
    "action=[int(i) for i in action]\n",
    "print (action)"
   ]
  },
  {
   "cell_type": "code",
   "execution_count": 13,
   "id": "3604a9b8",
   "metadata": {},
   "outputs": [],
   "source": [
    "#a= np.reshape(action,(4,4))\n",
    "#print(a)                          # discrete action to take in given state"
   ]
  },
  {
   "cell_type": "code",
   "execution_count": 14,
   "id": "cedf9995",
   "metadata": {},
   "outputs": [
    {
     "name": "stdout",
     "output_type": "stream",
     "text": [
      "Initial state of the system\n",
      "Iteration: 1 and action 1\n",
      "Iteration: 2 and action 1\n",
      "Iteration: 3 and action 2\n",
      "Iteration: 4 and action 1\n",
      "Iteration: 5 and action 2\n",
      "Iteration: 6 and action 2\n"
     ]
    }
   ],
   "source": [
    "state=env.reset()[0]\n",
    "env.render()\n",
    "print('Initial state of the system')\n",
    "\n",
    "numberOfIterations=100\n",
    "\n",
    "for i in range(numberOfIterations):\n",
    "    randomAction= action[state]\n",
    "    returnValue=env.step(randomAction)\n",
    "    env.render()\n",
    "    print('Iteration: {} and action {}'.format(i+1,randomAction))\n",
    "    time.sleep(2)\n",
    "    state=returnValue[0]\n",
    "    if returnValue[2]:\n",
    "        break\n",
    "\n",
    "env.close()    "
   ]
  },
  {
   "cell_type": "code",
   "execution_count": null,
   "id": "2828505e",
   "metadata": {},
   "outputs": [],
   "source": []
  }
 ],
 "metadata": {
  "kernelspec": {
   "display_name": "Python 3 (ipykernel)",
   "language": "python",
   "name": "python3"
  },
  "language_info": {
   "codemirror_mode": {
    "name": "ipython",
    "version": 3
   },
   "file_extension": ".py",
   "mimetype": "text/x-python",
   "name": "python",
   "nbconvert_exporter": "python",
   "pygments_lexer": "ipython3",
   "version": "3.9.13"
  }
 },
 "nbformat": 4,
 "nbformat_minor": 5
}
