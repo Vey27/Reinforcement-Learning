{
  "nbformat": 4,
  "nbformat_minor": 0,
  "metadata": {
    "colab": {
      "provenance": [],
      "authorship_tag": "ABX9TyMtuKBp73Tc3MJelZ6J1uXB"
    },
    "kernelspec": {
      "name": "python3",
      "display_name": "Python 3"
    },
    "language_info": {
      "name": "python"
    }
  },
  "cells": [
    {
      "cell_type": "markdown",
      "source": [
        "##Use Epsilon-Greedy Method in Music Recommendation.\n",
        "\n",
        "**DESCRIPTION**\n",
        "\n",
        "You’re an AI engineer at streamify.ai where the company is developing a feature to recommend songs to users. The company is testing and comparing different technologies to build this feature. You’re asked to build a program by using reinforcement learning for the same by using one user’s listing history\n",
        "\n",
        "**Objective:** To build a recommendation feature using reinforcement learning through a multi-arm bandit problem approach. The songs should be recommended exploring user preferences and exploiting user ratings.\n",
        "\n",
        "**Dataset Details:**\n",
        "The dataset is a history of one user. This dataset used is the combination of the following two datasets:\n",
        "\n",
        "**last.fm dataset:**\n",
        "This dataset contains user, timestamp, artist, song details.\n",
        "\n",
        "**MSD dataset:**\n",
        "The Million Song Dataset is a freely available collection of audio features and metadata for a million contemporary popular music tracks.\n",
        "\n",
        "Link to the Dataset:\n",
        "https://www.dropbox.com/s/vt5xwzb3rx0rskw/songs_with_features.csv?dl=0\n",
        "\n",
        "**Dependencies: **\n",
        "\n",
        "Utils.py\n",
        "\n",
        "**This file contains functions to:**\n",
        "\n",
        "- Get the number of songs\n",
        "- Get the number of features and features itself\n",
        "- Add rating for the song\n",
        "- Get cumulative rating and cumulative regret\n",
        "- Load the data and preprocess it:\n",
        "- Drop 'artist_name_lastfm', \"tra_id\", \"Unnamed: 0\",'title_lastfm', 'track_id'\n",
        "- Change the genre to categorical value\n",
        "- To calculate the rating, use the song listing frequency and the features of the song.\n",
        "\n",
        "**Note: All the helper functions to create the epsilon-greedy class have been provided here.**\n",
        "\n",
        "**Steps to perform:**\n",
        "\n",
        "Download the data and put it in the current directory\n",
        "Create a class for epsilon greedy algorithm to or and leverage the functions in the utils.py file\n",
        "Create a function to calculate the ratings, as given in utils.py, say ‘calculate_rating’\n",
        "Create a simulation to test the epsilon-greedy algorithm\n",
        "Take the value of epsilon as 0.2, name that as an epsilon-greedy method\n",
        "Take the value of epsilon as 1, name that as a random method\n",
        "     5. Compare the rating by the epsilon-greedy method with the ‘calculate_rating’ output\n",
        "\n",
        "     6. The recommendation of songs will be done by exploring user preferences and exploiting user ratings\n",
        "\n",
        "     7. Calculate the cumulative rating and cumulative regret for the epsilon greedy method and compare them that with the random method output\n",
        "\n"
      ],
      "metadata": {
        "id": "8phElKDczFvW"
      }
    },
    {
      "cell_type": "markdown",
      "source": [
        "# Import the libraries"
      ],
      "metadata": {
        "id": "od4pD0Ks0a-L"
      }
    },
    {
      "cell_type": "code",
      "source": [
        "import numpy as np\n",
        "import utils\n",
        "import matplotlib.pyplot as plt\n",
        "from scipy.optimize import fmin_l_bfgs_b\n",
        "from os.path import join\n"
      ],
      "metadata": {
        "id": "NnDI9eq5m-jn"
      },
      "execution_count": 55,
      "outputs": []
    },
    {
      "cell_type": "markdown",
      "source": [
        "## Create the class for epsilon greedy method"
      ],
      "metadata": {
        "id": "6I0zSTARzBCB"
      }
    },
    {
      "cell_type": "code",
      "source": [
        "class EpsilonGreedy:\n",
        "    def __init__(self, epsilon, datapath):\n",
        "        self.util = utils.Util(datapath)\n",
        "        self.epsilon = epsilon\n",
        "        self.recommended_song_ids = []\n",
        "        self.recommended_song_candidate = 0\n",
        "\n",
        "    def exploration_exploitation(self):\n",
        "        if len(self.recommended_song_ids) == 0 or self.epsilon > np.random.rand():\n",
        "            song_id = np.random.randint(self.util.get_number_of_songs())  # random choice\n",
        "        else:\n",
        "            song_id = self.recommended_song_candidate  # greedy choice\n",
        "        self.recommended_song_ids.append(song_id)\n",
        "        self.util.add_recommendation(song_id)\n",
        "        return song_id\n",
        "\n",
        "    def feedback(self, rating):\n",
        "        self.util.add_rating(rating)\n",
        "        t = self.util.get_all_times()\n",
        "        x = self.util.get_all_features()\n",
        "        theta, s = self.calculate_theta_s()\n",
        "        self.recommended_song_candidate = np.argmax(theta.T.dot(x) * (1 - np.exp(-t / s)))\n",
        "        self.calculate_cumulative_regret(theta, s)\n",
        "\n",
        "    def calculate_cumulative_regret(self, theta, s):\n",
        "        y = self.util.get_ratings()\n",
        "        t = self.util.get_history_times()\n",
        "        x = self.util.get_features_of_history()\n",
        "        y_model = theta.T.dot(x) * (1 - np.exp(-t / s))\n",
        "        print('expected rating: ', y_model[-1])\n",
        "        self.util.add_expected_rating(y_model[-1])\n",
        "        self.cumulative_regret = np.average(y - y_model)\n",
        "\n",
        "    def calculate_theta_s(self):\n",
        "        initial_values = np.zeros(self.util.get_number_of_features() + 1)\n",
        "        initial_values[-1] = 1\n",
        "        x = self.util.get_features_of_history()\n",
        "        y = self.util.get_ratings()\n",
        "        t = self.util.get_history_times()\n",
        "        position, _, _ = fmin_l_bfgs_b(self.optimization, x0=initial_values, args=(x, y, t), approx_grad=True)\n",
        "        theta = position[:-1]\n",
        "        s = position[-1]\n",
        "        return theta, s\n",
        "\n",
        "    @staticmethod\n",
        "    def optimization(params, *args):\n",
        "        x = args[0]\n",
        "        y = args[1]\n",
        "        t = args[2]\n",
        "        theta = params[:-1]\n",
        "        s = params[-1]\n",
        "        y_model = theta.T.dot(x) * (1 - np.exp(-t / s))\n",
        "        error = y - y_model\n",
        "        return sum(error ** 2)"
      ],
      "metadata": {
        "id": "3Alah0v9wIP_"
      },
      "execution_count": 56,
      "outputs": []
    },
    {
      "cell_type": "markdown",
      "source": [
        "## Calculate the ratings"
      ],
      "metadata": {
        "id": "csMejdJD1I_k"
      }
    },
    {
      "cell_type": "code",
      "source": [
        "def calculate_rating(theta, s, song_features, song_times):\n",
        "    return theta.T.dot(song_features) * (1 - np.exp(-song_times / s)) * 10"
      ],
      "metadata": {
        "id": "PmS5DpMm1GZw"
      },
      "execution_count": 57,
      "outputs": []
    },
    {
      "cell_type": "markdown",
      "source": [
        "##Create a simulation to test the performance of epsilon greedy algorithm"
      ],
      "metadata": {
        "id": "ZU2xhIe71Rvp"
      }
    },
    {
      "cell_type": "code",
      "source": [
        "def generate_simulation(song_names, method, theta, s, length, datapath):\n",
        "    if method == 'Random':\n",
        "        model = EpsilonGreedy(1.0, datapath) #only exploration\n",
        "    else:\n",
        "        method == 'Greedy'\n",
        "        model = EpsilonGreedy(0.2, datapath) #greedy choice\n",
        "\n",
        "    for i in range(length):\n",
        "        recommended_song = model.exploration_exploitation()\n",
        "        print(\"Recommended song: \", i, recommended_song, ' '.join(song_names.iloc[recommended_song]))\n",
        "        features, times = model.util.get_features_and_times_of_song(recommended_song)\n",
        "        rating = calculate_rating(theta, s, features, times)\n",
        "        print('Rating: ', rating)\n",
        "        model.feedback(rating)\n",
        "\n",
        "    cum_regret = model.util.get_cumulative_regret()\n",
        "    fig1 = plt.figure(1, figsize=(10, 5))\n",
        "    plt.plot(cum_regret)\n",
        "    plt.title(\"Cumulative Regret\")\n",
        "    fig1.savefig(join(method + \"_regret.png\"))\n",
        "    plt.close(fig1)\n",
        "\n",
        "    cumulative_average_rating = model.util.get_cumulative_average_rating()\n",
        "    fig2 = plt.figure(1, figsize=(10, 5))\n",
        "    plt.plot(cumulative_average_rating)\n",
        "    plt.title(\"Cumulative Average Rating\")\n",
        "    fig2.savefig(join(method + \"_rating.png\") )\n",
        "    plt.close(fig2)"
      ],
      "metadata": {
        "id": "kbCmTFUM1OXk"
      },
      "execution_count": 58,
      "outputs": []
    },
    {
      "cell_type": "markdown",
      "source": [
        "## Create a function to run the simulation"
      ],
      "metadata": {
        "id": "y8apghrh1bV8"
      }
    },
    {
      "cell_type": "code",
      "source": [
        "def run_simulation():\n",
        "    filepath = \"songs_with_features.csv\"\n",
        "    np.random.seed(12)\n",
        "    data, song_names = utils.get_data(filepath)\n",
        "    theta = np.random.random(data.shape[1])\n",
        "    s = 10\n",
        "    length = 30\n",
        "    methods = [\"Random\",\"Greedy\"]\n",
        "    for method in methods:\n",
        "        print(\"Starting simulation for model\", method)\n",
        "        print(\"======================================\")\n",
        "        generate_simulation(song_names, method, theta, s, length, filepath)\n",
        "        print(\"End of  simulation for model\", method)\n",
        "        print(\"======================================\")"
      ],
      "metadata": {
        "id": "46U8rhUi1Yox"
      },
      "execution_count": 59,
      "outputs": []
    },
    {
      "cell_type": "markdown",
      "source": [
        "## Run the simulation"
      ],
      "metadata": {
        "id": "dxsNK0pp1nKH"
      }
    },
    {
      "cell_type": "code",
      "source": [
        "run_simulation()"
      ],
      "metadata": {
        "colab": {
          "base_uri": "https://localhost:8080/"
        },
        "id": "MbGWajaL1jEH",
        "outputId": "6b17d3cd-20d5-43bb-a69c-5df568c9bd29"
      },
      "execution_count": 60,
      "outputs": [
        {
          "output_type": "stream",
          "name": "stdout",
          "text": [
            "Starting simulation for model Random\n",
            "======================================\n",
            "Recommended song:  0 6084 Thievery Corporation Retaliation Suite\n",
            "Rating:  2.8696218578097197\n",
            "expected rating:  2.8696217403521183\n",
            "Recommended song:  1 1395 Cowboy Junkies Working On A Building\n",
            "Rating:  2.5554330179869753\n",
            "expected rating:  2.555432534054733\n",
            "Recommended song:  2 3691 Matt Costa Mr. Pitiful\n",
            "Rating:  2.7163551071549312\n",
            "expected rating:  2.716361015545656\n",
            "Recommended song:  3 3270 Lene Marlin Another Day\n",
            "Rating:  2.2303519419278555\n",
            "expected rating:  2.230382037475901\n",
            "Recommended song:  4 6300 Treasure Fingers Cross The Dancefloor\n",
            "Rating:  2.7467787840979687\n",
            "expected rating:  2.7467532218626216\n",
            "Recommended song:  5 4451 Rosie Thomas Much Farther To Go\n",
            "Rating:  2.6878819914960217\n",
            "expected rating:  2.6876840767628405\n",
            "Recommended song:  6 4587 Seven Letters The Fit\n",
            "Rating:  3.2294783333665023\n",
            "expected rating:  3.229488485712676\n",
            "Recommended song:  7 2153 Freda Payne Band Of Gold\n",
            "Rating:  2.231372538401835\n",
            "expected rating:  2.231644469431175\n",
            "Recommended song:  8 160 Alela Diane Pigeon Song\n",
            "Rating:  3.167470672200963\n",
            "expected rating:  3.1673972129916965\n",
            "Recommended song:  9 1782 Devon Sproule Eloise & Alex\n",
            "Rating:  2.7730269802674323\n",
            "expected rating:  2.7731136448312026\n",
            "Recommended song:  10 5211 Suzi Quatro Daytona Demon\n",
            "Rating:  2.9522395041948095\n",
            "expected rating:  2.952267692723589\n",
            "Recommended song:  11 2869 John Martyn Solid Air\n",
            "Rating:  3.0232887787447886\n",
            "expected rating:  3.0232846943508744\n",
            "Recommended song:  12 148 Alejandro Escovedo Break This Time\n",
            "Rating:  2.3358707630112328\n",
            "expected rating:  2.335708833133401\n",
            "Recommended song:  13 1239 Cherry Ghost Alfred The Great\n",
            "Rating:  2.277853852427986\n",
            "expected rating:  2.277655688475488\n",
            "Recommended song:  14 4847 Stars Elevator Love Letter\n",
            "Rating:  2.348341514917545\n",
            "expected rating:  2.3479876538886932\n",
            "Recommended song:  15 3478 Lou Rawls Tobacco Road\n",
            "Rating:  3.411581632098013\n",
            "expected rating:  3.411924420499035\n",
            "Recommended song:  16 6299 Traveling Wilburys Margarita\n",
            "Rating:  2.540914674560224\n",
            "expected rating:  2.5408022667197483\n",
            "Recommended song:  17 3320 Lighthouse Family Wish\n",
            "Rating:  2.3437550291218643\n",
            "expected rating:  2.3437456570558655\n",
            "Recommended song:  18 2375 Grizzly Bear Little Brother\n",
            "Rating:  2.6498565150848146\n",
            "expected rating:  2.649719979050348\n",
            "Recommended song:  19 5540 The Field Mice Between Hello And Goodbye\n",
            "Rating:  2.4042458543027125\n",
            "expected rating:  2.403132871567161\n",
            "Recommended song:  20 2888 John Waite Missing You\n",
            "Rating:  2.666928212522798\n",
            "expected rating:  2.6673063609612857\n",
            "Recommended song:  21 824 Bob Marley & The Wailers Lively Up Yourself\n",
            "Rating:  3.8124816024029706\n",
            "expected rating:  3.812506685326638\n",
            "Recommended song:  22 4892 Stars Time Can Never Kill The True Heart\n",
            "Rating:  2.4592182797576307\n",
            "expected rating:  2.4579865992864414\n",
            "Recommended song:  23 731 Bob Marley Stand Alone\n",
            "Rating:  4.012891535095156\n",
            "expected rating:  4.0122973762434215\n",
            "Recommended song:  24 4189 Patti Smith Paths That Cross\n",
            "Rating:  2.420243474604762\n",
            "expected rating:  2.421548546179137\n",
            "Recommended song:  25 2271 Gloria Gaynor I Am What I Am\n",
            "Rating:  2.3042784148949296\n",
            "expected rating:  2.3039076793483155\n",
            "Recommended song:  26 3802 Monrose Hot Summer (Radio Edit)\n",
            "Rating:  2.3541061409948933\n",
            "expected rating:  2.354682290338527\n",
            "Recommended song:  27 2210 Gene Chandler Duke Of Earl\n",
            "Rating:  2.4672981149027997\n",
            "expected rating:  2.4675561481735135\n",
            "Recommended song:  28 6161 Third Eye Blind My Hit And Run\n",
            "Rating:  2.4935911867003737\n",
            "expected rating:  2.494154387227004\n",
            "Recommended song:  29 1182 Casiotone For The Painfully Alone Bobby Malone Moves Home\n",
            "Rating:  2.3080698865455678\n",
            "expected rating:  2.3087276320682975\n",
            "End of  simulation for model Random\n",
            "======================================\n",
            "Starting simulation for model Greedy\n",
            "======================================\n",
            "Recommended song:  0 4678 Sirenia The Last Call\n",
            "Rating:  2.732921580793911\n",
            "expected rating:  2.732922374174386\n",
            "Recommended song:  1 5245 Sylvain Chauveau Suber\n",
            "Rating:  10.252184568395236\n",
            "expected rating:  10.252184600895495\n",
            "Recommended song:  2 1096 Calvin Harris Love Souvenir\n",
            "Rating:  5.4879014563553605\n",
            "expected rating:  5.4879049563082525\n",
            "Recommended song:  3 5245 Sylvain Chauveau Suber\n",
            "Rating:  10.25218456839476\n",
            "expected rating:  10.252186015226403\n",
            "Recommended song:  4 4414 Red House Painters Shadows\n",
            "Rating:  3.6609651994531323\n",
            "expected rating:  3.660965248604539\n",
            "Recommended song:  5 5245 Sylvain Chauveau Suber\n",
            "Rating:  10.25218456828976\n",
            "expected rating:  10.25218469346445\n",
            "Recommended song:  6 5381 The Belle Stars Iko Iko\n",
            "Rating:  2.3875231694293846\n",
            "expected rating:  2.3875175850188226\n",
            "Recommended song:  7 5245 Sylvain Chauveau Suber\n",
            "Rating:  10.252184568392355\n",
            "expected rating:  10.252183450903825\n",
            "Recommended song:  8 5245 Sylvain Chauveau Suber\n",
            "Rating:  10.252184427113413\n",
            "expected rating:  10.25218493565881\n",
            "Recommended song:  9 2882 Johnny Nash Stir It Up\n",
            "Rating:  3.2014296063175642\n",
            "expected rating:  3.2014295973401707\n",
            "Recommended song:  10 5245 Sylvain Chauveau Suber\n",
            "Rating:  10.252184568394846\n",
            "expected rating:  10.25218312785999\n",
            "Recommended song:  11 3769 Mindy Smith Train Song\n",
            "Rating:  2.8344220157808735\n",
            "expected rating:  2.8344226458350135\n",
            "Recommended song:  12 464 Behemoth Ceremony Of Shiva\n",
            "Rating:  2.2797287928726586\n",
            "expected rating:  2.2795538421191965\n",
            "Recommended song:  13 5245 Sylvain Chauveau Suber\n",
            "Rating:  10.252184568395236\n",
            "expected rating:  10.252194718698885\n",
            "Recommended song:  14 5245 Sylvain Chauveau Suber\n",
            "Rating:  10.252184568395151\n",
            "expected rating:  10.252175079328374\n",
            "Recommended song:  15 5245 Sylvain Chauveau Suber\n",
            "Rating:  10.252184568395236\n",
            "expected rating:  10.252175599859925\n",
            "Recommended song:  16 5245 Sylvain Chauveau Suber\n",
            "Rating:  10.252184568371703\n",
            "expected rating:  10.252190184880762\n",
            "Recommended song:  17 5245 Sylvain Chauveau Suber\n",
            "Rating:  10.252184568395236\n",
            "expected rating:  10.2521706543424\n",
            "Recommended song:  18 5245 Sylvain Chauveau Suber\n",
            "Rating:  10.252184568395236\n",
            "expected rating:  10.252179584619617\n",
            "Recommended song:  19 5245 Sylvain Chauveau Suber\n",
            "Rating:  10.252184568395236\n",
            "expected rating:  10.252168734323782\n",
            "Recommended song:  20 5245 Sylvain Chauveau Suber\n",
            "Rating:  10.252184568395236\n",
            "expected rating:  10.25217504956164\n",
            "Recommended song:  21 946 Boys Noize Kill The Kid\n",
            "Rating:  4.224543789947153\n",
            "expected rating:  4.224585243013452\n",
            "Recommended song:  22 5245 Sylvain Chauveau Suber\n",
            "Rating:  10.252184568395236\n",
            "expected rating:  10.252185590639293\n",
            "Recommended song:  23 5245 Sylvain Chauveau Suber\n",
            "Rating:  10.252184568395235\n",
            "expected rating:  10.252183447643759\n",
            "Recommended song:  24 5245 Sylvain Chauveau Suber\n",
            "Rating:  10.252184568395231\n",
            "expected rating:  10.252182117211099\n",
            "Recommended song:  25 5245 Sylvain Chauveau Suber\n",
            "Rating:  10.252184568395236\n",
            "expected rating:  10.25217454603748\n",
            "Recommended song:  26 5245 Sylvain Chauveau Suber\n",
            "Rating:  10.252183868621783\n",
            "expected rating:  10.252183239457162\n",
            "Recommended song:  27 5245 Sylvain Chauveau Suber\n",
            "Rating:  10.252184568395236\n",
            "expected rating:  10.252182711051969\n",
            "Recommended song:  28 1624 Dayglo Abortions W.A.S.P.\n",
            "Rating:  2.0214539839340455\n",
            "expected rating:  2.022168465587004\n",
            "Recommended song:  29 5245 Sylvain Chauveau Suber\n",
            "Rating:  10.252184568395236\n",
            "expected rating:  10.252185140660325\n",
            "End of  simulation for model Greedy\n",
            "======================================\n"
          ]
        }
      ]
    },
    {
      "cell_type": "markdown",
      "source": [
        "\n",
        "This updated code will generate two plots: one for cumulative regret and another for cumulative average rating. The plots will be saved as image files (`_regret.png` and `_rating.png`) in the current directory.\n",
        "\n",
        "Make sure to have the necessary dependencies installed (`numpy`, `matplotlib`, `scipy`) to execute the code successfully.\n"
      ],
      "metadata": {
        "id": "uazxIEwS5ncV"
      }
    }
  ]
}